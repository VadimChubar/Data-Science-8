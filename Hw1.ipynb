{
  "nbformat": 4,
  "nbformat_minor": 0,
  "metadata": {
    "colab": {
      "provenance": []
    },
    "kernelspec": {
      "name": "python3",
      "display_name": "Python 3"
    },
    "language_info": {
      "name": "python"
    }
  },
  "cells": [
    {
      "cell_type": "code",
      "execution_count": 2,
      "metadata": {
        "id": "TBL9EzVfOl1u"
      },
      "outputs": [],
      "source": [
        "import numpy as np"
      ]
    },
    {
      "cell_type": "code",
      "source": [
        "#1 Створіть одновимірний масив (вектор) з першими 10-ма натуральними числами та виведіть його значення.\n",
        "vector = np.arange(1,11)\n",
        "print(vector)"
      ],
      "metadata": {
        "colab": {
          "base_uri": "https://localhost:8080/"
        },
        "id": "cwhkeKzSQjZd",
        "outputId": "b282f63e-6fd1-4e85-b257-f9ed11db895c"
      },
      "execution_count": 66,
      "outputs": [
        {
          "output_type": "stream",
          "name": "stdout",
          "text": [
            "[ 1  2  3  4  5  6  7  8  9 10]\n"
          ]
        }
      ]
    },
    {
      "cell_type": "code",
      "source": [
        "#2 Створіть двовимірний масив (матрицю) розміром 3x3, заповніть його нулями та виведіть його значення.\n",
        "matrix = np.zeros((3, 3), dtype=int)\n",
        "print(matrix)"
      ],
      "metadata": {
        "colab": {
          "base_uri": "https://localhost:8080/"
        },
        "id": "wdjfFGmaS_90",
        "outputId": "e785be1c-cc5f-4d2b-9550-60a177aeb0a9"
      },
      "execution_count": 67,
      "outputs": [
        {
          "output_type": "stream",
          "name": "stdout",
          "text": [
            "[[0 0 0]\n",
            " [0 0 0]\n",
            " [0 0 0]]\n"
          ]
        }
      ]
    },
    {
      "cell_type": "code",
      "source": [
        "#3 Створіть масив розміром 5x5, заповніть його випадковими цілими числами в діапазоні від 1 до 10 та виведіть його значення.\n",
        "matrix = np.random.randint(11, size=(5,5))\n",
        "print(matrix)"
      ],
      "metadata": {
        "colab": {
          "base_uri": "https://localhost:8080/"
        },
        "id": "muKiOu43VeWC",
        "outputId": "7e037be1-0beb-4d23-efb6-59f14de3c977"
      },
      "execution_count": 77,
      "outputs": [
        {
          "output_type": "stream",
          "name": "stdout",
          "text": [
            "[[ 5  3  7  7 10]\n",
            " [ 7  3  9  3  4]\n",
            " [ 4  5  3  5  5]\n",
            " [ 9 10  4  3  3]\n",
            " [ 1  9  8  0 10]]\n"
          ]
        }
      ]
    },
    {
      "cell_type": "code",
      "source": [
        "#4 Створіть масив розміром 4x4, заповніть його випадковими дійсними числами в діапазоні від 0 до 1 та виведіть його значення.\n",
        "matrix = np.random.randint(2, size=(4,4))\n",
        "print(matrix)"
      ],
      "metadata": {
        "colab": {
          "base_uri": "https://localhost:8080/"
        },
        "id": "4VfK0-m1ZdwE",
        "outputId": "4429275c-36f9-4a17-f9d0-7b3ee960e0b1"
      },
      "execution_count": 78,
      "outputs": [
        {
          "output_type": "stream",
          "name": "stdout",
          "text": [
            "[[1 0 0 0]\n",
            " [1 0 0 1]\n",
            " [0 1 0 0]\n",
            " [1 0 0 0]]\n"
          ]
        }
      ]
    },
    {
      "cell_type": "code",
      "source": [
        "#5 Створіть два одновимірних масиви розміром 5, заповніть їх випадковими цілими числами в діапазоні від 1 до 10 та виконайте на них поелементні операції додавання, віднімання та множення.\n",
        "vector_1 =  np.array([np.random.randint(1,11) for n in range(5)])\n",
        "vector_2 =  np.array([np.random.randint(1,11) for n in range(5)])\n",
        "print(vector_1 - vector_2)\n",
        "print(vector_1 + vector_2)\n",
        "print(vector_1 * vector_2)"
      ],
      "metadata": {
        "colab": {
          "base_uri": "https://localhost:8080/"
        },
        "id": "SW3HpcRiafs5",
        "outputId": "51a36b1b-b158-4da6-9cbb-3be7ce139618"
      },
      "execution_count": 99,
      "outputs": [
        {
          "output_type": "stream",
          "name": "stdout",
          "text": [
            "[ 4  0  5 -1  3]\n",
            "[14 20 15 15 13]\n",
            "[ 45 100  50  56  40]\n"
          ]
        }
      ]
    },
    {
      "cell_type": "code",
      "source": [
        "#6 Створіть два вектори розміром 7, заповніть довільними числами та знайдіть їх скалярний добуток.\n",
        "vector_1 =  np.array([np.random.randint(0,100) for n in range(7)])\n",
        "vector_2 =  np.array([np.random.randint(0,100) for n in range(7)])\n",
        "print(vector_1 * vector_2)"
      ],
      "metadata": {
        "colab": {
          "base_uri": "https://localhost:8080/"
        },
        "id": "l9EGWIdheit2",
        "outputId": "76b81bc3-621e-4700-891f-c4ddbe6c3b15"
      },
      "execution_count": 104,
      "outputs": [
        {
          "output_type": "stream",
          "name": "stdout",
          "text": [
            "[1683 5460  714 2632  297 5076 2470]\n"
          ]
        }
      ]
    },
    {
      "cell_type": "code",
      "source": [
        "#7 Створіть дві матриці розміром 2x2 та 2x3, заповніть їх випадковими цілими числами в діапазоні від 1 до 10 та перемножте їх між собою.\n",
        "matrix_2x2 = np.array(np.random.randint(1,11, size=(2,2)))\n",
        "matrix_2x3 = np.array(np.random.randint(1,11, size=(2,3)))\n",
        "result = np.dot(matrix_2x2, matrix_2x3)\n",
        "print(result)"
      ],
      "metadata": {
        "colab": {
          "base_uri": "https://localhost:8080/"
        },
        "id": "YTnWY_gqfkr6",
        "outputId": "476bd851-448f-4637-8214-9f9edbaee625"
      },
      "execution_count": 118,
      "outputs": [
        {
          "output_type": "stream",
          "name": "stdout",
          "text": [
            "[[26 42 68]\n",
            " [24 30 52]]\n"
          ]
        }
      ]
    },
    {
      "cell_type": "code",
      "source": [
        "#8 Створіть матрицю розміром 3x3, заповніть її випадковими цілими числами в діапазоні від 1 до 10 та знайдіть її обернену матрицю.\n",
        "matrix = np.array(np.random.randint(0,100, size=(3,3)))\n",
        "matrix_inv = np.linalg.inv(matrix)\n",
        "print(matrix)\n",
        "print(matrix_inv)"
      ],
      "metadata": {
        "colab": {
          "base_uri": "https://localhost:8080/"
        },
        "id": "jeOgzf1X2-HT",
        "outputId": "9080bafd-5134-4a4a-a6ac-185cf07f3014"
      },
      "execution_count": 120,
      "outputs": [
        {
          "output_type": "stream",
          "name": "stdout",
          "text": [
            "[[24 49 72]\n",
            " [44 55 59]\n",
            " [95 41 60]]\n",
            "[[-0.01102863 -0.00015022  0.01338207]\n",
            " [-0.03711678  0.06759886 -0.02193208]\n",
            " [ 0.04282513 -0.04595471  0.01046531]]\n"
          ]
        }
      ]
    },
    {
      "cell_type": "code",
      "source": [
        "#9 Створіть матрицю розміром 4x4, заповніть її випадковими дійсними числами в діапазоні від 0 до 1 та транспонуйте її.\n",
        "matrix = np.array(np.random.randint(0,2, size=(4,4)))\n",
        "matrix_T = matrix.T\n",
        "print(matrix)\n",
        "print(matrix_T)"
      ],
      "metadata": {
        "colab": {
          "base_uri": "https://localhost:8080/"
        },
        "id": "BuJVAFY433pY",
        "outputId": "38b3684e-95d3-441b-8031-babebd911a2a"
      },
      "execution_count": 122,
      "outputs": [
        {
          "output_type": "stream",
          "name": "stdout",
          "text": [
            "[[0 0 1 1]\n",
            " [0 1 0 0]\n",
            " [0 1 0 0]\n",
            " [0 1 1 1]]\n",
            "[[0 0 0 0]\n",
            " [0 1 1 1]\n",
            " [1 0 0 1]\n",
            " [1 0 0 1]]\n"
          ]
        }
      ]
    },
    {
      "cell_type": "code",
      "source": [
        "#10 Створіть матрицю розміром 3x4 та вектор розміром 4, заповніть їх випадковими цілими числами в діапазоні від 1 до 10 та перемножте матрицю на вектор.\n",
        "matrix = np.array(np.random.randint(1,11, size=(3,4)))\n",
        "vector = np.array([np.random.randint(1,11) for n in range(4)])\n",
        "print(matrix * vector)"
      ],
      "metadata": {
        "colab": {
          "base_uri": "https://localhost:8080/"
        },
        "id": "N_BDOfQH4TEI",
        "outputId": "e21d31d4-db02-4e33-a856-17f9406359dc"
      },
      "execution_count": 126,
      "outputs": [
        {
          "output_type": "stream",
          "name": "stdout",
          "text": [
            "[[42 25 35  4]\n",
            " [12 50 56 16]\n",
            " [54 15 35 16]]\n"
          ]
        }
      ]
    },
    {
      "cell_type": "code",
      "source": [
        "#11 Створіть матрицю розміром 2x3 та вектор розміром 3, заповніть їх випадковими дійсними числами в діапазоні від 0 до 1 та перемножте матрицю на вектор.\n",
        "matrix = np.array(np.random.randint(0,2, size=(2,3)))\n",
        "vector = np.array([np.random.randint(0,2) for n in range(3)])\n",
        "print(matrix * vector)"
      ],
      "metadata": {
        "colab": {
          "base_uri": "https://localhost:8080/"
        },
        "id": "ewuf09IR44Of",
        "outputId": "c499bd11-78b3-4be0-ce77-9ad3664c99eb"
      },
      "execution_count": 127,
      "outputs": [
        {
          "output_type": "stream",
          "name": "stdout",
          "text": [
            "[[0 1 0]\n",
            " [0 1 0]]\n"
          ]
        }
      ]
    },
    {
      "cell_type": "code",
      "source": [
        "#12 Створіть дві матриці розміром 2x2, заповніть їх випадковими цілими числами в діапазоні від 1 до 10 та виконайте їхнє поелементне множення.\n",
        "matrix_1 = np.array(np.random.randint(1,11, size=(2,2)))\n",
        "matrix_2 = np.array(np.random.randint(1,11, size=(2,2)))\n",
        "print(matrix_1 * matrix_2)"
      ],
      "metadata": {
        "colab": {
          "base_uri": "https://localhost:8080/"
        },
        "id": "eqKxmwa75uPW",
        "outputId": "111e6947-e341-4f73-9751-c0045c767c08"
      },
      "execution_count": 131,
      "outputs": [
        {
          "output_type": "stream",
          "name": "stdout",
          "text": [
            "[[36 24]\n",
            " [18 60]]\n"
          ]
        }
      ]
    },
    {
      "cell_type": "code",
      "source": [
        "#13 Створіть дві матриці розміром 2x2, заповніть їх випадковими цілими числами в діапазоні від 1 до 10 та знайдіть їх добуток.\n",
        "matrix_1 = np.array(np.random.randint(1,11, size=(2,2)))\n",
        "matrix_2 = np.array(np.random.randint(1,11, size=(2,2)))\n",
        "result = np.dot(matrix_1, matrix_2)\n",
        "print(result)"
      ],
      "metadata": {
        "colab": {
          "base_uri": "https://localhost:8080/"
        },
        "id": "Rb8y3Jfv6Z47",
        "outputId": "470daec6-4a44-4d72-b2eb-0ca51301f08f"
      },
      "execution_count": 132,
      "outputs": [
        {
          "output_type": "stream",
          "name": "stdout",
          "text": [
            "[[ 72  53]\n",
            " [108  86]]\n"
          ]
        }
      ]
    },
    {
      "cell_type": "code",
      "source": [
        "#14 Створіть матрицю розміром 5x5, заповніть її випадковими цілими числами в діапазоні від 1 до 100 та знайдіть суму елементів матриці.\n",
        "matrix = np.array(np.random.randint(1,101, size=(5,5)))\n",
        "print(matrix.sum())"
      ],
      "metadata": {
        "colab": {
          "base_uri": "https://localhost:8080/"
        },
        "id": "z8Nwzv_f9jSM",
        "outputId": "497e6bc6-336f-4590-cd28-c0efbc2809b3"
      },
      "execution_count": 4,
      "outputs": [
        {
          "output_type": "stream",
          "name": "stdout",
          "text": [
            "1059\n"
          ]
        }
      ]
    },
    {
      "cell_type": "code",
      "source": [
        "#15 Створіть дві матриці розміром 4x4, заповніть їх випадковими цілими числами в діапазоні від 1 до 10 та знайдіть їхню різницю.\n",
        "matrix_1 = np.array(np.random.randint(1,11, size=(4,4)))\n",
        "matrix_2 = np.array(np.random.randint(1,11, size=(4,4)))\n",
        "print(matrix_1 - matrix_2)"
      ],
      "metadata": {
        "colab": {
          "base_uri": "https://localhost:8080/"
        },
        "id": "p9oGwfAM1Bj_",
        "outputId": "bbba59a4-8da4-4714-d78f-c09f0524457d"
      },
      "execution_count": 5,
      "outputs": [
        {
          "output_type": "stream",
          "name": "stdout",
          "text": [
            "[[ 0  9  3  3]\n",
            " [-1 -5  1 -3]\n",
            " [ 2  4 -4  2]\n",
            " [ 1  3  0 -3]]\n"
          ]
        }
      ]
    },
    {
      "cell_type": "code",
      "source": [
        "#16 Створіть матрицю розміром 3x3, заповніть її випадковими дійсними числами в діапазоні від 0 до 1 та знайдіть вектор-стовпчик, що містить суму елементів кожного рядка матриці.\n",
        "matrix = np.array(np.random.randint(0,2, size=(3,3)))\n",
        "vector = np.array([matrix[0].sum(), matrix[1].sum(), matrix[2].sum()])\n",
        "print(vector)"
      ],
      "metadata": {
        "colab": {
          "base_uri": "https://localhost:8080/"
        },
        "id": "zZvhYA3B1yf1",
        "outputId": "3f920bfd-f59c-40eb-ccd7-2c60e7666718"
      },
      "execution_count": 18,
      "outputs": [
        {
          "output_type": "stream",
          "name": "stdout",
          "text": [
            "[0 3 2]\n"
          ]
        }
      ]
    },
    {
      "cell_type": "code",
      "source": [
        "#17 Створіть матрицю розміром 3x4 з довільними цілими числами і створінь матрицю з квадратами цих чисел.\n",
        "matrix = np.array(np.random.randint(0,3, size=(3,4)))\n",
        "\n",
        "vector_1 = matrix[0]\n",
        "vector_2 = matrix[1]\n",
        "vector_3 = matrix[2]\n",
        "\n",
        "def func_sqr(vector):\n",
        "  list = []\n",
        "  for i in vector:\n",
        "    list.append(i**2)\n",
        "  return list\n",
        "\n",
        "matrix_sqr = np.array( [ func_sqr(vector_1), func_sqr(vector_2), func_sqr(vector_3) ] )\n",
        "\n",
        "print(matrix_sqr)"
      ],
      "metadata": {
        "colab": {
          "base_uri": "https://localhost:8080/"
        },
        "id": "4dcx6gEA378k",
        "outputId": "dcf1bc90-6b1a-41e3-fad4-083ff88a84f0"
      },
      "execution_count": 29,
      "outputs": [
        {
          "output_type": "stream",
          "name": "stdout",
          "text": [
            "[[4 0 1 0]\n",
            " [0 4 4 4]\n",
            " [1 4 4 1]]\n"
          ]
        }
      ]
    },
    {
      "cell_type": "code",
      "source": [
        "#18 Створіть вектор розміром 4, заповніть його випадковими цілими числами в діапазоні від 1 до 50 та знайдіть вектор з квадратними коренями цих чисел.\n",
        "vector = np.array([np.random.randint(1,51) for n in range(4)])\n",
        "vector_new = np.array([vector[0]**0.5, vector[1]**0.5, vector[2]**0.5, vector[3]**0.5], dtype=float)\n",
        "print(vector_new)"
      ],
      "metadata": {
        "colab": {
          "base_uri": "https://localhost:8080/"
        },
        "id": "1hKJrMfQ4HST",
        "outputId": "7f6e2c62-9706-48c8-ecaf-e2440c223f6e"
      },
      "execution_count": 34,
      "outputs": [
        {
          "output_type": "stream",
          "name": "stdout",
          "text": [
            "[49  6 28 15]\n",
            "[7.         2.44948974 5.29150262 3.87298335]\n"
          ]
        }
      ]
    }
  ]
}