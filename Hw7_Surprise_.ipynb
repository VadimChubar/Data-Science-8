{
  "nbformat": 4,
  "nbformat_minor": 0,
  "metadata": {
    "colab": {
      "provenance": []
    },
    "kernelspec": {
      "name": "python3",
      "display_name": "Python 3"
    },
    "language_info": {
      "name": "python"
    }
  },
  "cells": [
    {
      "cell_type": "markdown",
      "source": [],
      "metadata": {
        "id": "WO1uhgtx3Ibx"
      }
    },
    {
      "cell_type": "markdown",
      "source": [
        "#Surprise "
      ],
      "metadata": {
        "id": "ksO17DVn3LfS"
      }
    },
    {
      "cell_type": "code",
      "source": [
        "!pip install scikit-surprise"
      ],
      "metadata": {
        "colab": {
          "base_uri": "https://localhost:8080/"
        },
        "id": "--5L_6Go3NG2",
        "outputId": "9207a1b1-af79-4bc5-d963-cfcb2cad7b3f"
      },
      "execution_count": 1,
      "outputs": [
        {
          "output_type": "stream",
          "name": "stdout",
          "text": [
            "Looking in indexes: https://pypi.org/simple, https://us-python.pkg.dev/colab-wheels/public/simple/\n",
            "Collecting scikit-surprise\n",
            "  Downloading scikit-surprise-1.1.3.tar.gz (771 kB)\n",
            "\u001b[2K     \u001b[90m━━━━━━━━━━━━━━━━━━━━━━━━━━━━━━━━━━━━━━\u001b[0m \u001b[32m772.0/772.0 kB\u001b[0m \u001b[31m21.3 MB/s\u001b[0m eta \u001b[36m0:00:00\u001b[0m\n",
            "\u001b[?25h  Preparing metadata (setup.py) ... \u001b[?25l\u001b[?25hdone\n",
            "Requirement already satisfied: joblib>=1.0.0 in /usr/local/lib/python3.10/dist-packages (from scikit-surprise) (1.2.0)\n",
            "Requirement already satisfied: numpy>=1.17.3 in /usr/local/lib/python3.10/dist-packages (from scikit-surprise) (1.22.4)\n",
            "Requirement already satisfied: scipy>=1.3.2 in /usr/local/lib/python3.10/dist-packages (from scikit-surprise) (1.10.1)\n",
            "Building wheels for collected packages: scikit-surprise\n",
            "  Building wheel for scikit-surprise (setup.py) ... \u001b[?25l\u001b[?25hdone\n",
            "  Created wheel for scikit-surprise: filename=scikit_surprise-1.1.3-cp310-cp310-linux_x86_64.whl size=3095467 sha256=0e42dc9d08fff2bb3623b0955dbf1a3d4dbf689135ebc9fd779198958d2f7141\n",
            "  Stored in directory: /root/.cache/pip/wheels/a5/ca/a8/4e28def53797fdc4363ca4af740db15a9c2f1595ebc51fb445\n",
            "Successfully built scikit-surprise\n",
            "Installing collected packages: scikit-surprise\n",
            "Successfully installed scikit-surprise-1.1.3\n"
          ]
        }
      ]
    },
    {
      "cell_type": "markdown",
      "source": [
        "##SVD"
      ],
      "metadata": {
        "id": "KgXlamnL7h46"
      }
    },
    {
      "cell_type": "code",
      "source": [
        "from surprise import SVD\n",
        "from surprise import Dataset\n",
        "from surprise.model_selection import cross_validate\n",
        "\n",
        "data = Dataset.load_builtin(name='ml-100k', prompt=False)\n",
        "algo = SVD()\n",
        "cross_validate(algo, data, measures=['RMSE', 'MAE'], cv=5, verbose=True)"
      ],
      "metadata": {
        "colab": {
          "base_uri": "https://localhost:8080/"
        },
        "id": "FbH46d7cdSV4",
        "outputId": "609e640c-f327-42f6-8b79-1e881fdbdccf"
      },
      "execution_count": 2,
      "outputs": [
        {
          "output_type": "stream",
          "name": "stdout",
          "text": [
            "Trying to download dataset from https://files.grouplens.org/datasets/movielens/ml-100k.zip...\n",
            "Done! Dataset ml-100k has been saved to /root/.surprise_data/ml-100k\n",
            "Evaluating RMSE, MAE of algorithm SVD on 5 split(s).\n",
            "\n",
            "                  Fold 1  Fold 2  Fold 3  Fold 4  Fold 5  Mean    Std     \n",
            "RMSE (testset)    0.9306  0.9409  0.9355  0.9370  0.9382  0.9364  0.0034  \n",
            "MAE (testset)     0.7317  0.7447  0.7376  0.7385  0.7394  0.7384  0.0042  \n",
            "Fit time          1.05    1.10    1.48    1.11    1.07    1.16    0.16    \n",
            "Test time         0.13    0.28    0.18    0.21    0.12    0.18    0.06    \n"
          ]
        },
        {
          "output_type": "execute_result",
          "data": {
            "text/plain": [
              "{'test_rmse': array([0.93061451, 0.94092198, 0.9355155 , 0.93696895, 0.93815927]),\n",
              " 'test_mae': array([0.73168275, 0.74467279, 0.73758288, 0.73849566, 0.73941681]),\n",
              " 'fit_time': (1.0508220195770264,\n",
              "  1.0992414951324463,\n",
              "  1.4809887409210205,\n",
              "  1.112177848815918,\n",
              "  1.0658574104309082),\n",
              " 'test_time': (0.12981963157653809,\n",
              "  0.28377842903137207,\n",
              "  0.17902803421020508,\n",
              "  0.20613455772399902,\n",
              "  0.12482953071594238)}"
            ]
          },
          "metadata": {},
          "execution_count": 2
        }
      ]
    },
    {
      "cell_type": "code",
      "source": [
        "from surprise import accuracy\n",
        "from surprise.model_selection import train_test_split\n",
        "\n",
        "# розподіл даних на тренувальні та тестові\n",
        "trainset, testset = train_test_split(data, test_size=.25)\n",
        "# SVD алгоритм.\n",
        "algo = SVD()\n",
        "# тренування даних та прогнозування\n",
        "algo.fit(trainset)\n",
        "predictions = algo.test(testset)\n",
        "# RMSE\n",
        "accuracy.rmse(predictions)"
      ],
      "metadata": {
        "colab": {
          "base_uri": "https://localhost:8080/"
        },
        "id": "PUYY7fGgdbTd",
        "outputId": "5e065139-4522-4caf-b128-c57edd6532d0"
      },
      "execution_count": 3,
      "outputs": [
        {
          "output_type": "stream",
          "name": "stdout",
          "text": [
            "RMSE: 0.9440\n"
          ]
        },
        {
          "output_type": "execute_result",
          "data": {
            "text/plain": [
              "0.944018639929652"
            ]
          },
          "metadata": {},
          "execution_count": 3
        }
      ]
    },
    {
      "cell_type": "code",
      "source": [
        "# пошук найкращих параметрів\n",
        "from surprise.model_selection import GridSearchCV\n",
        "\n",
        "param_grid = {'n_epochs': [5, 10], 'lr_all': [0.002, 0.005],\n",
        "              'reg_all': [0.4, 0.6]}\n",
        "gs = GridSearchCV(SVD, param_grid, measures=['rmse', 'mae'], cv=3)\n",
        "\n",
        "gs.fit(data)\n",
        "\n",
        "best_score_rmse = gs.best_score['rmse']\n",
        "best_params = gs.best_params['rmse']\n",
        "\n",
        "rezult_svd = f'SVD\\nbest_score_rmse: {best_score_rmse} best_params: {best_params}'\n",
        "\n",
        "print(rezult_svd)"
      ],
      "metadata": {
        "colab": {
          "base_uri": "https://localhost:8080/"
        },
        "id": "fgUqYl41d2CY",
        "outputId": "825985c9-3af0-43f5-8bee-74ec33ee927c"
      },
      "execution_count": 11,
      "outputs": [
        {
          "output_type": "stream",
          "name": "stdout",
          "text": [
            "SVD\n",
            "best_score_rmse: 0.9637935955808913 best_params: {'n_epochs': 10, 'lr_all': 0.005, 'reg_all': 0.4}\n"
          ]
        }
      ]
    },
    {
      "cell_type": "markdown",
      "source": [
        "##NMF"
      ],
      "metadata": {
        "id": "-yMnW2IQjWh6"
      }
    },
    {
      "cell_type": "code",
      "source": [
        "from surprise import NMF\n",
        "\n",
        "data = Dataset.load_builtin(name='ml-100k', prompt=False)\n",
        "algo = NMF()\n",
        "cross_validate(algo, data, measures=['RMSE', 'MAE'], cv=5, verbose=True)"
      ],
      "metadata": {
        "colab": {
          "base_uri": "https://localhost:8080/"
        },
        "id": "ODEo2Oc3h_tV",
        "outputId": "e8791e5f-dae7-4b0d-e118-328043166a2f"
      },
      "execution_count": 34,
      "outputs": [
        {
          "output_type": "stream",
          "name": "stdout",
          "text": [
            "Evaluating RMSE, MAE of algorithm NMF on 5 split(s).\n",
            "\n",
            "                  Fold 1  Fold 2  Fold 3  Fold 4  Fold 5  Mean    Std     \n",
            "RMSE (testset)    0.9667  0.9563  0.9699  0.9703  0.9570  0.9640  0.0062  \n",
            "MAE (testset)     0.7565  0.7545  0.7615  0.7601  0.7534  0.7572  0.0031  \n",
            "Fit time          2.45    2.06    2.06    2.08    2.02    2.13    0.16    \n",
            "Test time         0.16    0.25    0.13    0.24    0.11    0.18    0.06    \n"
          ]
        },
        {
          "output_type": "execute_result",
          "data": {
            "text/plain": [
              "{'test_rmse': array([0.96668644, 0.95632416, 0.96988785, 0.97029919, 0.9569924 ]),\n",
              " 'test_mae': array([0.756468  , 0.7545408 , 0.76146404, 0.76014903, 0.75339537]),\n",
              " 'fit_time': (2.4468514919281006,\n",
              "  2.062884569168091,\n",
              "  2.0565810203552246,\n",
              "  2.0795669555664062,\n",
              "  2.0170552730560303),\n",
              " 'test_time': (0.16056370735168457,\n",
              "  0.24796319007873535,\n",
              "  0.13017916679382324,\n",
              "  0.23665189743041992,\n",
              "  0.11309409141540527)}"
            ]
          },
          "metadata": {},
          "execution_count": 34
        }
      ]
    },
    {
      "cell_type": "code",
      "source": [
        "# розподіл даних на тренувальні та тестові\n",
        "trainset, testset = train_test_split(data, test_size=.25)\n",
        "# NMF алгоритм.\n",
        "algo = NMF()\n",
        "# тренування даних та прогнозування\n",
        "algo.fit(trainset)\n",
        "predictions = algo.test(testset)\n",
        "# RMSE\n",
        "accuracy.rmse(predictions)"
      ],
      "metadata": {
        "colab": {
          "base_uri": "https://localhost:8080/"
        },
        "id": "_w9z7j1WjlGB",
        "outputId": "49447189-cfc5-4691-9b5b-77138bf49a0e"
      },
      "execution_count": 35,
      "outputs": [
        {
          "output_type": "stream",
          "name": "stdout",
          "text": [
            "RMSE: 0.9605\n"
          ]
        },
        {
          "output_type": "execute_result",
          "data": {
            "text/plain": [
              "0.9605318771724971"
            ]
          },
          "metadata": {},
          "execution_count": 35
        }
      ]
    },
    {
      "cell_type": "code",
      "source": [
        "# пошук найкращих параметрів\n",
        "\n",
        "param_grid = {'n_epochs': [5, 10]}\n",
        "gs = GridSearchCV(NMF, param_grid, measures=['rmse', 'mae'], cv=3)\n",
        "\n",
        "gs.fit(data)\n",
        "\n",
        "best_score_rmse_nmf = gs.best_score['rmse']\n",
        "best_params_nmf = gs.best_params['rmse']\n",
        "\n",
        "rezult_nmf = f'NMF\\nbest_score_rmse: {best_score_rmse_nmf} best_params: {best_params_nmf}'\n",
        "\n",
        "print(rezult_nmf)"
      ],
      "metadata": {
        "colab": {
          "base_uri": "https://localhost:8080/"
        },
        "id": "AbLimfqQjtI1",
        "outputId": "40fb336d-006d-4e6c-ce1e-883cdecee3b1"
      },
      "execution_count": 47,
      "outputs": [
        {
          "output_type": "stream",
          "name": "stdout",
          "text": [
            "NMF\n",
            "best_score_rmse: 1.0003143500903937 best_params: {'n_epochs': 10}\n"
          ]
        }
      ]
    },
    {
      "cell_type": "markdown",
      "source": [
        "##SVD++"
      ],
      "metadata": {
        "id": "v15W-RYckH5b"
      }
    },
    {
      "cell_type": "code",
      "source": [
        "from surprise import SVDpp\n",
        "\n",
        "data = Dataset.load_builtin(name='ml-100k', prompt=False)\n",
        "algo = SVDpp()\n",
        "cross_validate(algo, data, measures=['RMSE', 'MAE'], cv=5, verbose=True)"
      ],
      "metadata": {
        "colab": {
          "base_uri": "https://localhost:8080/"
        },
        "id": "H-dH_OaEkKLt",
        "outputId": "2578cfd2-72f9-4190-9f12-5c1b591e3949"
      },
      "execution_count": 19,
      "outputs": [
        {
          "output_type": "stream",
          "name": "stdout",
          "text": [
            "Evaluating RMSE, MAE of algorithm SVDpp on 5 split(s).\n",
            "\n",
            "                  Fold 1  Fold 2  Fold 3  Fold 4  Fold 5  Mean    Std     \n",
            "RMSE (testset)    0.9263  0.9180  0.9171  0.9145  0.9175  0.9187  0.0040  \n",
            "MAE (testset)     0.7280  0.7198  0.7170  0.7192  0.7175  0.7203  0.0040  \n",
            "Fit time          27.11   28.22   26.91   25.96   26.17   26.87   0.80    \n",
            "Test time         5.08    4.81    5.25    5.02    4.97    5.03    0.15    \n"
          ]
        },
        {
          "output_type": "execute_result",
          "data": {
            "text/plain": [
              "{'test_rmse': array([0.92625688, 0.9179504 , 0.91705575, 0.91454579, 0.91753976]),\n",
              " 'test_mae': array([0.72804344, 0.71984505, 0.71698394, 0.71921638, 0.71746503]),\n",
              " 'fit_time': (27.10638952255249,\n",
              "  28.22447943687439,\n",
              "  26.909903526306152,\n",
              "  25.958884477615356,\n",
              "  26.165033102035522),\n",
              " 'test_time': (5.080756187438965,\n",
              "  4.806103467941284,\n",
              "  5.251223564147949,\n",
              "  5.0224950313568115,\n",
              "  4.9688050746917725)}"
            ]
          },
          "metadata": {},
          "execution_count": 19
        }
      ]
    },
    {
      "cell_type": "code",
      "source": [
        "# розподіл даних на тренувальні та тестові\n",
        "trainset, testset = train_test_split(data, test_size=.25)\n",
        "# NMF алгоритм.\n",
        "algo = SVDpp()\n",
        "# тренування даних та прогнозування\n",
        "algo.fit(trainset)\n",
        "predictions = algo.test(testset)\n",
        "# RMSE\n",
        "accuracy.rmse(predictions)"
      ],
      "metadata": {
        "colab": {
          "base_uri": "https://localhost:8080/"
        },
        "id": "HAyQVvRilWTc",
        "outputId": "378215f0-9d7f-47ea-93ba-7af5950d7dde"
      },
      "execution_count": 20,
      "outputs": [
        {
          "output_type": "stream",
          "name": "stdout",
          "text": [
            "RMSE: 0.9276\n"
          ]
        },
        {
          "output_type": "execute_result",
          "data": {
            "text/plain": [
              "0.9276228247658914"
            ]
          },
          "metadata": {},
          "execution_count": 20
        }
      ]
    },
    {
      "cell_type": "code",
      "source": [
        "# пошук найкращих параметрів\n",
        "\n",
        "param_grid = {'n_epochs': [5, 10], 'lr_all': [0.002, 0.005],\n",
        "              'reg_all': [0.4, 0.6]}\n",
        "gs = GridSearchCV(SVDpp, param_grid, measures=['rmse', 'mae'], cv=3)\n",
        "\n",
        "gs.fit(data)\n",
        "\n",
        "best_score_rmse_svdpp = gs.best_score['rmse']\n",
        "best_params_nmf_svdpp = gs.best_params['rmse']\n",
        "\n",
        "rezult_svdpp = f'SVD++\\nbest_score_rmse: {best_score_rmse_svdpp} best_params: {best_params_nmf_svdpp}'\n",
        "\n",
        "print(rezult_svdpp)"
      ],
      "metadata": {
        "colab": {
          "base_uri": "https://localhost:8080/"
        },
        "id": "_UFYBkIClk_A",
        "outputId": "bbf3b025-b24d-462e-9817-558e5f2992e9"
      },
      "execution_count": 32,
      "outputs": [
        {
          "output_type": "stream",
          "name": "stdout",
          "text": [
            "SVD++\n",
            "best_score_rmse: 0.9635549099132005 best_params: {'n_epochs': 10, 'lr_all': 0.005, 'reg_all': 0.4}\n"
          ]
        }
      ]
    },
    {
      "cell_type": "markdown",
      "source": [
        "##SVD vs NMF vs SVD++"
      ],
      "metadata": {
        "id": "BQqQZuNBl8d1"
      }
    },
    {
      "cell_type": "code",
      "source": [
        "print(rezult_svd)\n",
        "print(rezult_nmf)\n",
        "print(rezult_svdpp)"
      ],
      "metadata": {
        "colab": {
          "base_uri": "https://localhost:8080/"
        },
        "id": "1PqPUuJnmBEI",
        "outputId": "140fcff8-ca77-4347-aca9-48fcbf45bead"
      },
      "execution_count": 48,
      "outputs": [
        {
          "output_type": "stream",
          "name": "stdout",
          "text": [
            "SVD\n",
            "best_score_rmse: 0.9637935955808913 best_params: {'n_epochs': 10, 'lr_all': 0.005, 'reg_all': 0.4}\n",
            "NMF\n",
            "best_score_rmse: 1.0003143500903937 best_params: {'n_epochs': 10}\n",
            "SVD++\n",
            "best_score_rmse: 0.9635549099132005 best_params: {'n_epochs': 10, 'lr_all': 0.005, 'reg_all': 0.4}\n"
          ]
        }
      ]
    }
  ]
}